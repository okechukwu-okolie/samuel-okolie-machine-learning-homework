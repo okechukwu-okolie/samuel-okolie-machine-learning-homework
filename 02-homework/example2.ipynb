{
 "cells": [
  {
   "cell_type": "code",
   "execution_count": 160,
   "id": "95f7bc11",
   "metadata": {},
   "outputs": [],
   "source": [
    "import pandas as pd\n",
    "import numpy as np\n",
    "\n",
    "# these are the imports for mathplotlib and seaborn\n",
    "import matplotlib.pyplot as plt\n",
    "import seaborn as sns\n",
    "\n",
    "# this line of code is what makes sure that the mathplotlib works as it should.\n",
    "%matplotlib inline"
   ]
  },
  {
   "cell_type": "code",
   "execution_count": 161,
   "id": "1d76df1f",
   "metadata": {},
   "outputs": [
    {
     "data": {
      "text/html": [
       "<div>\n",
       "<style scoped>\n",
       "    .dataframe tbody tr th:only-of-type {\n",
       "        vertical-align: middle;\n",
       "    }\n",
       "\n",
       "    .dataframe tbody tr th {\n",
       "        vertical-align: top;\n",
       "    }\n",
       "\n",
       "    .dataframe thead th {\n",
       "        text-align: right;\n",
       "    }\n",
       "</style>\n",
       "<table border=\"1\" class=\"dataframe\">\n",
       "  <thead>\n",
       "    <tr style=\"text-align: right;\">\n",
       "      <th></th>\n",
       "      <th>engine_displacement</th>\n",
       "      <th>num_cylinders</th>\n",
       "      <th>horsepower</th>\n",
       "      <th>vehicle_weight</th>\n",
       "      <th>acceleration</th>\n",
       "      <th>model_year</th>\n",
       "      <th>origin</th>\n",
       "      <th>fuel_type</th>\n",
       "      <th>drivetrain</th>\n",
       "      <th>num_doors</th>\n",
       "      <th>fuel_efficiency_mpg</th>\n",
       "    </tr>\n",
       "  </thead>\n",
       "  <tbody>\n",
       "    <tr>\n",
       "      <th>0</th>\n",
       "      <td>170</td>\n",
       "      <td>3.0</td>\n",
       "      <td>159.0</td>\n",
       "      <td>3413.433759</td>\n",
       "      <td>17.7</td>\n",
       "      <td>2003</td>\n",
       "      <td>Europe</td>\n",
       "      <td>Gasoline</td>\n",
       "      <td>All-wheel drive</td>\n",
       "      <td>0.0</td>\n",
       "      <td>13.231729</td>\n",
       "    </tr>\n",
       "    <tr>\n",
       "      <th>1</th>\n",
       "      <td>130</td>\n",
       "      <td>5.0</td>\n",
       "      <td>97.0</td>\n",
       "      <td>3149.664934</td>\n",
       "      <td>17.8</td>\n",
       "      <td>2007</td>\n",
       "      <td>USA</td>\n",
       "      <td>Gasoline</td>\n",
       "      <td>Front-wheel drive</td>\n",
       "      <td>0.0</td>\n",
       "      <td>13.688217</td>\n",
       "    </tr>\n",
       "    <tr>\n",
       "      <th>2</th>\n",
       "      <td>170</td>\n",
       "      <td>NaN</td>\n",
       "      <td>78.0</td>\n",
       "      <td>3079.038997</td>\n",
       "      <td>15.1</td>\n",
       "      <td>2018</td>\n",
       "      <td>Europe</td>\n",
       "      <td>Gasoline</td>\n",
       "      <td>Front-wheel drive</td>\n",
       "      <td>0.0</td>\n",
       "      <td>14.246341</td>\n",
       "    </tr>\n",
       "    <tr>\n",
       "      <th>3</th>\n",
       "      <td>220</td>\n",
       "      <td>4.0</td>\n",
       "      <td>NaN</td>\n",
       "      <td>2542.392402</td>\n",
       "      <td>20.2</td>\n",
       "      <td>2009</td>\n",
       "      <td>USA</td>\n",
       "      <td>Diesel</td>\n",
       "      <td>All-wheel drive</td>\n",
       "      <td>2.0</td>\n",
       "      <td>16.912736</td>\n",
       "    </tr>\n",
       "    <tr>\n",
       "      <th>4</th>\n",
       "      <td>210</td>\n",
       "      <td>1.0</td>\n",
       "      <td>140.0</td>\n",
       "      <td>3460.870990</td>\n",
       "      <td>14.4</td>\n",
       "      <td>2009</td>\n",
       "      <td>Europe</td>\n",
       "      <td>Gasoline</td>\n",
       "      <td>All-wheel drive</td>\n",
       "      <td>2.0</td>\n",
       "      <td>12.488369</td>\n",
       "    </tr>\n",
       "    <tr>\n",
       "      <th>...</th>\n",
       "      <td>...</td>\n",
       "      <td>...</td>\n",
       "      <td>...</td>\n",
       "      <td>...</td>\n",
       "      <td>...</td>\n",
       "      <td>...</td>\n",
       "      <td>...</td>\n",
       "      <td>...</td>\n",
       "      <td>...</td>\n",
       "      <td>...</td>\n",
       "      <td>...</td>\n",
       "    </tr>\n",
       "    <tr>\n",
       "      <th>9699</th>\n",
       "      <td>140</td>\n",
       "      <td>5.0</td>\n",
       "      <td>164.0</td>\n",
       "      <td>2981.107371</td>\n",
       "      <td>17.3</td>\n",
       "      <td>2013</td>\n",
       "      <td>Europe</td>\n",
       "      <td>Diesel</td>\n",
       "      <td>Front-wheel drive</td>\n",
       "      <td>NaN</td>\n",
       "      <td>15.101802</td>\n",
       "    </tr>\n",
       "    <tr>\n",
       "      <th>9700</th>\n",
       "      <td>180</td>\n",
       "      <td>NaN</td>\n",
       "      <td>154.0</td>\n",
       "      <td>2439.525729</td>\n",
       "      <td>15.0</td>\n",
       "      <td>2004</td>\n",
       "      <td>USA</td>\n",
       "      <td>Gasoline</td>\n",
       "      <td>All-wheel drive</td>\n",
       "      <td>0.0</td>\n",
       "      <td>17.962326</td>\n",
       "    </tr>\n",
       "    <tr>\n",
       "      <th>9701</th>\n",
       "      <td>220</td>\n",
       "      <td>2.0</td>\n",
       "      <td>138.0</td>\n",
       "      <td>2583.471318</td>\n",
       "      <td>15.1</td>\n",
       "      <td>2008</td>\n",
       "      <td>USA</td>\n",
       "      <td>Diesel</td>\n",
       "      <td>All-wheel drive</td>\n",
       "      <td>-1.0</td>\n",
       "      <td>17.186587</td>\n",
       "    </tr>\n",
       "    <tr>\n",
       "      <th>9702</th>\n",
       "      <td>230</td>\n",
       "      <td>4.0</td>\n",
       "      <td>177.0</td>\n",
       "      <td>2905.527390</td>\n",
       "      <td>19.4</td>\n",
       "      <td>2011</td>\n",
       "      <td>USA</td>\n",
       "      <td>Diesel</td>\n",
       "      <td>Front-wheel drive</td>\n",
       "      <td>1.0</td>\n",
       "      <td>15.331551</td>\n",
       "    </tr>\n",
       "    <tr>\n",
       "      <th>9703</th>\n",
       "      <td>270</td>\n",
       "      <td>3.0</td>\n",
       "      <td>140.0</td>\n",
       "      <td>2908.043477</td>\n",
       "      <td>14.7</td>\n",
       "      <td>2005</td>\n",
       "      <td>Asia</td>\n",
       "      <td>Diesel</td>\n",
       "      <td>All-wheel drive</td>\n",
       "      <td>-1.0</td>\n",
       "      <td>14.884467</td>\n",
       "    </tr>\n",
       "  </tbody>\n",
       "</table>\n",
       "<p>9704 rows × 11 columns</p>\n",
       "</div>"
      ],
      "text/plain": [
       "      engine_displacement  num_cylinders  horsepower  vehicle_weight  \\\n",
       "0                     170            3.0       159.0     3413.433759   \n",
       "1                     130            5.0        97.0     3149.664934   \n",
       "2                     170            NaN        78.0     3079.038997   \n",
       "3                     220            4.0         NaN     2542.392402   \n",
       "4                     210            1.0       140.0     3460.870990   \n",
       "...                   ...            ...         ...             ...   \n",
       "9699                  140            5.0       164.0     2981.107371   \n",
       "9700                  180            NaN       154.0     2439.525729   \n",
       "9701                  220            2.0       138.0     2583.471318   \n",
       "9702                  230            4.0       177.0     2905.527390   \n",
       "9703                  270            3.0       140.0     2908.043477   \n",
       "\n",
       "      acceleration  model_year  origin fuel_type         drivetrain  \\\n",
       "0             17.7        2003  Europe  Gasoline    All-wheel drive   \n",
       "1             17.8        2007     USA  Gasoline  Front-wheel drive   \n",
       "2             15.1        2018  Europe  Gasoline  Front-wheel drive   \n",
       "3             20.2        2009     USA    Diesel    All-wheel drive   \n",
       "4             14.4        2009  Europe  Gasoline    All-wheel drive   \n",
       "...            ...         ...     ...       ...                ...   \n",
       "9699          17.3        2013  Europe    Diesel  Front-wheel drive   \n",
       "9700          15.0        2004     USA  Gasoline    All-wheel drive   \n",
       "9701          15.1        2008     USA    Diesel    All-wheel drive   \n",
       "9702          19.4        2011     USA    Diesel  Front-wheel drive   \n",
       "9703          14.7        2005    Asia    Diesel    All-wheel drive   \n",
       "\n",
       "      num_doors  fuel_efficiency_mpg  \n",
       "0           0.0            13.231729  \n",
       "1           0.0            13.688217  \n",
       "2           0.0            14.246341  \n",
       "3           2.0            16.912736  \n",
       "4           2.0            12.488369  \n",
       "...         ...                  ...  \n",
       "9699        NaN            15.101802  \n",
       "9700        0.0            17.962326  \n",
       "9701       -1.0            17.186587  \n",
       "9702        1.0            15.331551  \n",
       "9703       -1.0            14.884467  \n",
       "\n",
       "[9704 rows x 11 columns]"
      ]
     },
     "execution_count": 161,
     "metadata": {},
     "output_type": "execute_result"
    }
   ],
   "source": [
    "df = pd.read_csv('https://raw.githubusercontent.com/alexeygrigorev/datasets/master/car_fuel_efficiency.csv')\n",
    "df"
   ]
  },
  {
   "cell_type": "code",
   "execution_count": 162,
   "id": "0918ad55",
   "metadata": {},
   "outputs": [
    {
     "data": {
      "text/html": [
       "<div>\n",
       "<style scoped>\n",
       "    .dataframe tbody tr th:only-of-type {\n",
       "        vertical-align: middle;\n",
       "    }\n",
       "\n",
       "    .dataframe tbody tr th {\n",
       "        vertical-align: top;\n",
       "    }\n",
       "\n",
       "    .dataframe thead th {\n",
       "        text-align: right;\n",
       "    }\n",
       "</style>\n",
       "<table border=\"1\" class=\"dataframe\">\n",
       "  <thead>\n",
       "    <tr style=\"text-align: right;\">\n",
       "      <th></th>\n",
       "      <th>engine_displacement</th>\n",
       "      <th>num_cylinders</th>\n",
       "      <th>horsepower</th>\n",
       "      <th>vehicle_weight</th>\n",
       "      <th>acceleration</th>\n",
       "      <th>model_year</th>\n",
       "      <th>origin</th>\n",
       "      <th>fuel_type</th>\n",
       "      <th>drivetrain</th>\n",
       "      <th>num_doors</th>\n",
       "      <th>fuel_efficiency_mpg</th>\n",
       "    </tr>\n",
       "  </thead>\n",
       "  <tbody>\n",
       "    <tr>\n",
       "      <th>0</th>\n",
       "      <td>170</td>\n",
       "      <td>3.0</td>\n",
       "      <td>159.0</td>\n",
       "      <td>3413.433759</td>\n",
       "      <td>17.7</td>\n",
       "      <td>2003</td>\n",
       "      <td>Europe</td>\n",
       "      <td>Gasoline</td>\n",
       "      <td>All-wheel drive</td>\n",
       "      <td>0.0</td>\n",
       "      <td>13.231729</td>\n",
       "    </tr>\n",
       "    <tr>\n",
       "      <th>1</th>\n",
       "      <td>130</td>\n",
       "      <td>5.0</td>\n",
       "      <td>97.0</td>\n",
       "      <td>3149.664934</td>\n",
       "      <td>17.8</td>\n",
       "      <td>2007</td>\n",
       "      <td>USA</td>\n",
       "      <td>Gasoline</td>\n",
       "      <td>Front-wheel drive</td>\n",
       "      <td>0.0</td>\n",
       "      <td>13.688217</td>\n",
       "    </tr>\n",
       "    <tr>\n",
       "      <th>2</th>\n",
       "      <td>170</td>\n",
       "      <td>NaN</td>\n",
       "      <td>78.0</td>\n",
       "      <td>3079.038997</td>\n",
       "      <td>15.1</td>\n",
       "      <td>2018</td>\n",
       "      <td>Europe</td>\n",
       "      <td>Gasoline</td>\n",
       "      <td>Front-wheel drive</td>\n",
       "      <td>0.0</td>\n",
       "      <td>14.246341</td>\n",
       "    </tr>\n",
       "    <tr>\n",
       "      <th>3</th>\n",
       "      <td>220</td>\n",
       "      <td>4.0</td>\n",
       "      <td>NaN</td>\n",
       "      <td>2542.392402</td>\n",
       "      <td>20.2</td>\n",
       "      <td>2009</td>\n",
       "      <td>USA</td>\n",
       "      <td>Diesel</td>\n",
       "      <td>All-wheel drive</td>\n",
       "      <td>2.0</td>\n",
       "      <td>16.912736</td>\n",
       "    </tr>\n",
       "    <tr>\n",
       "      <th>4</th>\n",
       "      <td>210</td>\n",
       "      <td>1.0</td>\n",
       "      <td>140.0</td>\n",
       "      <td>3460.870990</td>\n",
       "      <td>14.4</td>\n",
       "      <td>2009</td>\n",
       "      <td>Europe</td>\n",
       "      <td>Gasoline</td>\n",
       "      <td>All-wheel drive</td>\n",
       "      <td>2.0</td>\n",
       "      <td>12.488369</td>\n",
       "    </tr>\n",
       "  </tbody>\n",
       "</table>\n",
       "</div>"
      ],
      "text/plain": [
       "   engine_displacement  num_cylinders  horsepower  vehicle_weight  \\\n",
       "0                  170            3.0       159.0     3413.433759   \n",
       "1                  130            5.0        97.0     3149.664934   \n",
       "2                  170            NaN        78.0     3079.038997   \n",
       "3                  220            4.0         NaN     2542.392402   \n",
       "4                  210            1.0       140.0     3460.870990   \n",
       "\n",
       "   acceleration  model_year  origin fuel_type         drivetrain  num_doors  \\\n",
       "0          17.7        2003  Europe  Gasoline    All-wheel drive        0.0   \n",
       "1          17.8        2007     USA  Gasoline  Front-wheel drive        0.0   \n",
       "2          15.1        2018  Europe  Gasoline  Front-wheel drive        0.0   \n",
       "3          20.2        2009     USA    Diesel    All-wheel drive        2.0   \n",
       "4          14.4        2009  Europe  Gasoline    All-wheel drive        2.0   \n",
       "\n",
       "   fuel_efficiency_mpg  \n",
       "0            13.231729  \n",
       "1            13.688217  \n",
       "2            14.246341  \n",
       "3            16.912736  \n",
       "4            12.488369  "
      ]
     },
     "execution_count": 162,
     "metadata": {},
     "output_type": "execute_result"
    }
   ],
   "source": [
    "df.columns = df.columns.str.lower().str.replace(' ','_')\n",
    "df.head()"
   ]
  },
  {
   "cell_type": "code",
   "execution_count": 163,
   "id": "1e68efed",
   "metadata": {},
   "outputs": [
    {
     "data": {
      "text/plain": [
       "['origin', 'fuel_type', 'drivetrain']"
      ]
     },
     "execution_count": 163,
     "metadata": {},
     "output_type": "execute_result"
    }
   ],
   "source": [
    "# to find the datat type in the columns\n",
    "df.dtypes\n",
    "\n",
    "# to get the columns that are objects \n",
    "df.dtypes[df.dtypes == 'object']\n",
    "\n",
    "# to modify the key or property of the key value pair\n",
    "\n",
    "strings = list(df.dtypes[df.dtypes == 'object'].index)\n",
    "strings"
   ]
  },
  {
   "cell_type": "code",
   "execution_count": 164,
   "id": "5b632082",
   "metadata": {},
   "outputs": [],
   "source": [
    "#  to apply the cleaning features to all the columns in the tabe we do this:\n",
    "for col in strings:\n",
    "    df[col] = df[col].str.lower().str.replace(' ','_')"
   ]
  },
  {
   "cell_type": "code",
   "execution_count": 165,
   "id": "1ca82e52",
   "metadata": {},
   "outputs": [],
   "source": [
    "#  the data in the column have been cleaned as desired\n",
    "# df.head()"
   ]
  },
  {
   "cell_type": "code",
   "execution_count": 166,
   "id": "e6c64ece",
   "metadata": {},
   "outputs": [
    {
     "name": "stdout",
     "output_type": "stream",
     "text": [
      "engine_displacement\n",
      "0    170\n",
      "1    130\n",
      "2    170\n",
      "3    220\n",
      "4    210\n",
      "Name: engine_displacement, dtype: int64\n",
      "36\n",
      "[170 130 220 210 190 240]\n",
      "\n",
      "num_cylinders\n",
      "0    3.0\n",
      "1    5.0\n",
      "2    NaN\n",
      "3    4.0\n",
      "4    1.0\n",
      "Name: num_cylinders, dtype: float64\n",
      "14\n",
      "[ 3.  5. nan  4.  1.  7.]\n",
      "\n",
      "horsepower\n",
      "0    159.0\n",
      "1     97.0\n",
      "2     78.0\n",
      "3      NaN\n",
      "4    140.0\n",
      "Name: horsepower, dtype: float64\n",
      "192\n",
      "[159.  97.  78.  nan 140. 127.]\n",
      "\n",
      "vehicle_weight\n",
      "0    3413.433759\n",
      "1    3149.664934\n",
      "2    3079.038997\n",
      "3    2542.392402\n",
      "4    3460.870990\n",
      "Name: vehicle_weight, dtype: float64\n",
      "9704\n",
      "[3413.43375861 3149.66493422 3079.03899737 2542.39240183 3460.87098999\n",
      " 2484.88398604]\n",
      "\n",
      "acceleration\n",
      "0    17.7\n",
      "1    17.8\n",
      "2    15.1\n",
      "3    20.2\n",
      "4    14.4\n",
      "Name: acceleration, dtype: float64\n",
      "162\n",
      "[17.7 17.8 15.1 20.2 14.4 14.7]\n",
      "\n",
      "model_year\n",
      "0    2003\n",
      "1    2007\n",
      "2    2018\n",
      "3    2009\n",
      "4    2009\n",
      "Name: model_year, dtype: int64\n",
      "24\n",
      "[2003 2007 2018 2009 2008 2012]\n",
      "\n",
      "origin\n",
      "0    europe\n",
      "1       usa\n",
      "2    europe\n",
      "3       usa\n",
      "4    europe\n",
      "Name: origin, dtype: object\n",
      "3\n",
      "['europe' 'usa' 'asia']\n",
      "\n",
      "fuel_type\n",
      "0    gasoline\n",
      "1    gasoline\n",
      "2    gasoline\n",
      "3      diesel\n",
      "4    gasoline\n",
      "Name: fuel_type, dtype: object\n",
      "2\n",
      "['gasoline' 'diesel']\n",
      "\n",
      "drivetrain\n",
      "0      all-wheel_drive\n",
      "1    front-wheel_drive\n",
      "2    front-wheel_drive\n",
      "3      all-wheel_drive\n",
      "4      all-wheel_drive\n",
      "Name: drivetrain, dtype: object\n",
      "2\n",
      "['all-wheel_drive' 'front-wheel_drive']\n",
      "\n",
      "num_doors\n",
      "0    0.0\n",
      "1    0.0\n",
      "2    0.0\n",
      "3    2.0\n",
      "4    2.0\n",
      "Name: num_doors, dtype: float64\n",
      "9\n",
      "[ 0.  2. -1.  1. nan -2.]\n",
      "\n",
      "fuel_efficiency_mpg\n",
      "0    13.231729\n",
      "1    13.688217\n",
      "2    14.246341\n",
      "3    16.912736\n",
      "4    12.488369\n",
      "Name: fuel_efficiency_mpg, dtype: float64\n",
      "9704\n",
      "[13.23172891 13.68821744 14.246341   16.9127356  12.48836912 17.27181837]\n",
      "\n"
     ]
    }
   ],
   "source": [
    "# 2.3 EXPLORATORY DATA ANALYSIS\n",
    "for col in df.columns:\n",
    "    print(col)\n",
    "    print(df[col].head(5) )\n",
    "    print(df[col].nunique())\n",
    "    print(df[col].unique()[:6])\n",
    "    print()"
   ]
  },
  {
   "cell_type": "code",
   "execution_count": 167,
   "id": "af0a119c",
   "metadata": {},
   "outputs": [
    {
     "data": {
      "text/plain": [
       "<Axes: xlabel='fuel_efficiency_mpg', ylabel='Count'>"
      ]
     },
     "execution_count": 167,
     "metadata": {},
     "output_type": "execute_result"
    },
    {
     "data": {
      "image/png": "[encoded data removed]",
      "text/plain": [
       "<Figure size 640x480 with 1 Axes>"
      ]
     },
     "metadata": {},
     "output_type": "display_data"
    }
   ],
   "source": [
    "#  we want to consider the distribution of prices\n",
    "# this kind of distribution is called  A LONG TAIL DISTRIBUTION because of the tail. the tail distribution is usually not good for training models unless its changed using logarithm\n",
    "sns.histplot(df.fuel_efficiency_mpg, bins=50)"
   ]
  },
  {
   "cell_type": "code",
   "execution_count": 168,
   "id": "1383abe9",
   "metadata": {},
   "outputs": [
    {
     "data": {
      "text/plain": [
       "<Axes: xlabel='fuel_efficiency_mpg', ylabel='Count'>"
      ]
     },
     "execution_count": 168,
     "metadata": {},
     "output_type": "execute_result"
    },
    {
     "data": {
      "image/png": "[encoded data removed]",
      "text/plain": [
       "<Figure size 640x480 with 1 Axes>"
      ]
     },
     "metadata": {},
     "output_type": "display_data"
    }
   ],
   "source": [
    "#  we can zoom in and be more detailed as. we have decided to see cars that are 1000 or less\n",
    "sns.histplot(df.fuel_efficiency_mpg[df.fuel_efficiency_mpg < 100000], bins=50)"
   ]
  },
  {
   "cell_type": "code",
   "execution_count": 169,
   "id": "c96888c1",
   "metadata": {},
   "outputs": [
    {
     "data": {
      "text/plain": [
       "array([ 0.        ,  0.69314718,  2.39789527,  6.90875478, 11.51293546])"
      ]
     },
     "execution_count": 169,
     "metadata": {},
     "output_type": "execute_result"
    }
   ],
   "source": [
    "#  to make the long tail distribution, we use logarithm\n",
    "# np.log([0+1,1+1,10+1,1000+1,100000+1]) or THIS IS LOGARITHM TRANSFORMATION\n",
    "np.log1p([0,1,10,1000,100000])"
   ]
  },
  {
   "cell_type": "code",
   "execution_count": 170,
   "id": "20d58808",
   "metadata": {},
   "outputs": [
    {
     "data": {
      "text/plain": [
       "0       2.655474\n",
       "1       2.687046\n",
       "2       2.724340\n",
       "3       2.885512\n",
       "4       2.601828\n",
       "          ...   \n",
       "9699    2.778931\n",
       "9700    2.942454\n",
       "9701    2.900684\n",
       "9702    2.793099\n",
       "9703    2.765342\n",
       "Name: fuel_efficiency_mpg, Length: 9704, dtype: float64"
      ]
     },
     "execution_count": 170,
     "metadata": {},
     "output_type": "execute_result"
    }
   ],
   "source": [
    "price_logs = np.log1p(df.fuel_efficiency_mpg)\n",
    "price_logs"
   ]
  },
  {
   "cell_type": "code",
   "execution_count": 171,
   "id": "407c5798",
   "metadata": {},
   "outputs": [
    {
     "data": {
      "text/plain": [
       "<Axes: xlabel='fuel_efficiency_mpg', ylabel='Count'>"
      ]
     },
     "execution_count": 171,
     "metadata": {},
     "output_type": "execute_result"
    },
    {
     "data": {
      "image/png": "[encoded data removed]",
      "text/plain": [
       "<Figure size 640x480 with 1 Axes>"
      ]
     },
     "metadata": {},
     "output_type": "display_data"
    }
   ],
   "source": [
    "#  if we take the price logs that have just been worked on using logarithm, we can now have a distribution referred to as NORMAL DISTRIBUTION\n",
    "\n",
    "sns.histplot(price_logs, bins=50)"
   ]
  },
  {
   "cell_type": "code",
   "execution_count": 172,
   "id": "8a5632d9",
   "metadata": {},
   "outputs": [
    {
     "data": {
      "text/plain": [
       "engine_displacement      0\n",
       "num_cylinders          482\n",
       "horsepower             708\n",
       "vehicle_weight           0\n",
       "acceleration           930\n",
       "model_year               0\n",
       "origin                   0\n",
       "fuel_type                0\n",
       "drivetrain               0\n",
       "num_doors              502\n",
       "fuel_efficiency_mpg      0\n",
       "dtype: int64"
      ]
     },
     "execution_count": 172,
     "metadata": {},
     "output_type": "execute_result"
    }
   ],
   "source": [
    "# MISSING VALUES. this is how we find missing values in the columns\n",
    "\n",
    "df.isnull().sum()\n",
    "\n"
   ]
  },
  {
   "cell_type": "code",
   "execution_count": 173,
   "id": "43cb388e",
   "metadata": {},
   "outputs": [
    {
     "data": {
      "text/plain": [
       "(5824, 1940, 1940)"
      ]
     },
     "execution_count": 173,
     "metadata": {},
     "output_type": "execute_result"
    }
   ],
   "source": [
    "# 2.4 SETTING UP THE VALIDATION MODEL\n",
    "#  WE TRAIN, VALIDATE AND TEST our data set to create our model.\n",
    "\n",
    "# to get the length or quantity of the data set\n",
    "n = len(df)\n",
    "# to get the validation data\n",
    "n_val = int(n * 0.2)\n",
    "#  to get the test data\n",
    "n_test = int(n * 0.2)\n",
    "#to get the data for training\n",
    "n_train = n - n_val - n_test\n",
    "\n",
    "\n",
    "# these are the sizes of the data breakdown\n",
    "n_train, n_val,n_test\n"
   ]
  },
  {
   "cell_type": "code",
   "execution_count": 174,
   "id": "87ac1f8c",
   "metadata": {},
   "outputs": [],
   "source": [
    "# accessing the data for their different functions. iloc can be used to target specific areas of the table\n",
    "\n",
    "df_val = df.iloc[:n_val]\n",
    "df_test = df.iloc[n_val:n_val+n_test]\n",
    "df_train = df.iloc[n_val+n_test:]\n",
    "\n",
    "\n",
    "\n",
    "\n",
    "# its always import to shuffle your data\n",
    "# creating a sequence of numbers from 1 to n-1 before shuffling\n",
    "idx = np.arange(n)\n",
    "\n",
    "# we shuffle the sequence of numbers we have been able to create from the no of items in the column\n",
    "np.random.shuffle(idx)\n",
    "\n",
    "\n",
    "\n",
    "df_train = df.iloc[idx[n_train:]]\n",
    "df_val = df.iloc[idx[n_train:n_train+n_val]]\n",
    "df_test = df.iloc[idx[n_train+n_val:]]\n",
    "\n",
    "# here the provided rows are shuffled\n",
    "df.iloc[idx[:10]]\n",
    "\n",
    "\n",
    "# this provides the length of each of the components for training the model.\n",
    "len(df_train),len(df_val),len(df_test)\n",
    "\n",
    "\n",
    "\n",
    "# to reset the column to the original index distribution\n",
    "df_train = df_train.reset_index(drop=True)\n",
    "\n",
    "\n",
    "\n",
    "\n"
   ]
  },
  {
   "cell_type": "code",
   "execution_count": 175,
   "id": "86b434c4",
   "metadata": {},
   "outputs": [],
   "source": [
    "#  carrying out the log transformation of the elements of data for training the model\n",
    "y_train = np.log1p(df_train.fuel_efficiency_mpg)\n",
    "y_val = np.log1p(df_val.fuel_efficiency_mpg)\n",
    "y_test = np.log1p(df_test.fuel_efficiency_mpg)\n"
   ]
  },
  {
   "cell_type": "code",
   "execution_count": 176,
   "id": "acb1d003",
   "metadata": {},
   "outputs": [],
   "source": [
    "#  to avoid making the mistake of using this  msrp values, it should be deleted as follows\n",
    "del df_train['fuel_efficiency_mpg']\n",
    "del df_test['fuel_efficiency_mpg']\n",
    "del df_val['fuel_efficiency_mpg']"
   ]
  },
  {
   "cell_type": "code",
   "execution_count": 177,
   "id": "0756bf4f",
   "metadata": {},
   "outputs": [
    {
     "data": {
      "text/plain": [
       "3880"
      ]
     },
     "execution_count": 177,
     "metadata": {},
     "output_type": "execute_result"
    }
   ],
   "source": [
    "len(y_train)"
   ]
  },
  {
   "cell_type": "code",
   "execution_count": 178,
   "id": "8d39162f",
   "metadata": {},
   "outputs": [
    {
     "data": {
      "text/plain": [
       "engine_displacement                170\n",
       "num_cylinders                      2.0\n",
       "horsepower                       186.0\n",
       "vehicle_weight              2292.55452\n",
       "acceleration                      15.9\n",
       "model_year                        2006\n",
       "origin                             usa\n",
       "fuel_type                     gasoline\n",
       "drivetrain             all-wheel_drive\n",
       "num_doors                         -2.0\n",
       "Name: 10, dtype: object"
      ]
     },
     "execution_count": 178,
     "metadata": {},
     "output_type": "execute_result"
    }
   ],
   "source": [
    "# 2.5 LINEAR REGRESSION\n",
    "# used for solving regression and for handling numbers. \n",
    "# lets start of by considering only one car row: \n",
    "df_train.iloc[10]"
   ]
  },
  {
   "cell_type": "code",
   "execution_count": 179,
   "id": "2867fcbc",
   "metadata": {},
   "outputs": [],
   "source": [
    "# this is the feature matrix that we will consider for our process. xi1=380,xi2=15,xi3=61\n",
    "xi = [155,21,481]"
   ]
  },
  {
   "cell_type": "code",
   "execution_count": 180,
   "id": "79e980d5",
   "metadata": {},
   "outputs": [],
   "source": [
    "# we will need to implement something in the form of\n",
    "def g(xi):\n",
    "    # do something\n",
    "    return 10000\n",
    "\n",
    "g(xi)\n",
    "\n",
    "# these values for weight are arbitrary for the test case for now\n",
    "w0=0\n",
    "w=[1,1,1]\n",
    "\n",
    "# another set of weights is\n",
    "w0 = 7.17\n",
    "w=[0.01,0.04,0.002]"
   ]
  },
  {
   "cell_type": "code",
   "execution_count": 181,
   "id": "09826670",
   "metadata": {},
   "outputs": [
    {
     "data": {
      "text/plain": [
       "8.72"
      ]
     },
     "execution_count": 181,
     "metadata": {},
     "output_type": "execute_result"
    }
   ],
   "source": [
    "#the formula: g(xi)=w0 + w1.xi1 + w2.xi2 + w3.xi3 \n",
    "# g(xi) = w0 + 3Ej-1(wj.xij)\n",
    "\n",
    "def linear_regression(xi):\n",
    "    n=len(xi)\n",
    "\n",
    "    pred = w0\n",
    "\n",
    "    for j in range(n):\n",
    "        #do something\n",
    "        pred = pred + w[j]*xi[j]\n",
    "\n",
    "        return pred\n",
    "\n",
    "\n",
    "linear_regression(xi)\n",
    "# \n",
    "# recall that we changed our values to make them logarithmic, we have to change them to exponential\n",
    "\n",
    "\n"
   ]
  },
  {
   "cell_type": "code",
   "execution_count": 182,
   "id": "53f26c91",
   "metadata": {},
   "outputs": [
    {
     "data": {
      "text/plain": [
       "np.float64(6123.18)"
      ]
     },
     "execution_count": 182,
     "metadata": {},
     "output_type": "execute_result"
    }
   ],
   "source": [
    "#  from  the prediction of '8.72', we calculate the exponential.\n",
    "np.expm1(8.72).round(2)"
   ]
  },
  {
   "cell_type": "code",
   "execution_count": 183,
   "id": "3c24cb51",
   "metadata": {},
   "outputs": [
    {
     "data": {
      "text/plain": [
       "14.34"
      ]
     },
     "execution_count": 183,
     "metadata": {},
     "output_type": "execute_result"
    }
   ],
   "source": [
    "# 2.6 LINEAR REGRESSION VECTOR FORM.\n",
    "#  dot here is from dot notation\n",
    "def dot(xi,w):\n",
    "    n = len(xi)\n",
    "\n",
    "    res = 0.0\n",
    "\n",
    "    for j in range(n):\n",
    "        res = res + xi[j] * w[j]\n",
    "\n",
    "        return res\n",
    "    \n",
    "\n",
    "def linear_regression(xi):\n",
    "    return w0 + dot(xi,w)\n",
    "\n",
    "\n",
    "w_new = [w0] + w\n",
    "\n",
    "\n",
    "def linear_regression(xi):\n",
    "    xi = [1] + xi\n",
    "    return w0 + dot(xi,w_new)\n",
    "\n",
    "\n",
    "\n",
    "linear_regression(xi)"
   ]
  },
  {
   "cell_type": "code",
   "execution_count": 184,
   "id": "71f6fc98",
   "metadata": {},
   "outputs": [
    {
     "data": {
      "text/plain": [
       "array([[   1,  148,   24, 1385],\n",
       "       [   1,  148,   24, 1385],\n",
       "       [   1,  148,   24, 1385]])"
      ]
     },
     "execution_count": 184,
     "metadata": {},
     "output_type": "execute_result"
    }
   ],
   "source": [
    "# we start each of the rows with the features we have chosen to use with 1 and we create matrix of matrix\n",
    "\n",
    "# features from row 1 2 and 10\n",
    "x1 = [1, 148, 24, 1385]\n",
    "x2 = [1, 148, 24, 1385]\n",
    "x10 = [1, 148, 24, 1385]\n",
    "\n",
    "\n",
    "X = [x1, x2, x10]\n",
    "# change the list of list into a mattrix\n",
    "\n",
    "X = np.array(X)\n",
    "X\n"
   ]
  },
  {
   "cell_type": "code",
   "execution_count": 185,
   "id": "a7bb8a84",
   "metadata": {},
   "outputs": [
    {
     "data": {
      "text/plain": [
       "array([12.38, 12.38, 12.38])"
      ]
     },
     "execution_count": 185,
     "metadata": {},
     "output_type": "execute_result"
    }
   ],
   "source": [
    "# now we can multiply the matix we created from the features of the table and the the vector which is the corresponding targets from the rows.\n",
    "\n",
    "# so linear regression now becomes\n",
    "def linear_regression(X):\n",
    "    return X.dot(w_new)\n",
    "\n",
    "\n",
    "linear_regression(X)"
   ]
  },
  {
   "cell_type": "code",
   "execution_count": 186,
   "id": "80444145",
   "metadata": {},
   "outputs": [
    {
     "data": {
      "text/plain": [
       "(np.float64(585995.0531239839), [0.01, 0.04, 0.002])"
      ]
     },
     "execution_count": 186,
     "metadata": {},
     "output_type": "execute_result"
    }
   ],
   "source": [
    "# 2.7 TRAINING A LINEAR REGRESSION MODEL \n",
    "# learning how to derive w, the vector\n",
    "\n",
    "def train_linear_regression(X,y):\n",
    "    pass\n",
    "\n",
    "\n",
    "\n",
    "X = [\n",
    "    [123, 28, 1345],\n",
    "    [1243, 73, 3345],\n",
    "    [126, 20, 3005],\n",
    "    [1232, 43, 385],\n",
    "    [145, 93, 349],\n",
    "    [13, 28, 356],\n",
    "    [1723, 73, 945],\n",
    "    [113, 43, 325],\n",
    "    [213, 49, 525]\n",
    "]\n",
    "X = np.array(X)\n",
    "X\n",
    "\n",
    "# Calculate for the GRAM MATRIX\n",
    "# T means transpose\n",
    "XTX = X.T.dot(X)\n",
    "\n",
    "# find the inverse using numpy\n",
    "XTX_inv = np.linalg.inv(XTX)\n",
    "\n",
    "# multiplying both of them gives us an identity matris\n",
    "\n",
    "XTX.dot(XTX_inv)\n",
    "\n",
    "# lets assume our vector y\n",
    "\n",
    "# note to create the bias of 1 on all the rows of the feature matrix. this is the same number of rows availibale in the feature matrix\n",
    "ones = np.ones(X.shape[0])\n",
    "ones\n",
    "\n",
    "# # we can make use of column stach method in numpy to combine two vectors or a vector and matrix\n",
    "\n",
    "X = np.column_stack([ones,X])\n",
    "X\n",
    "y = [100222, 222222, 333222, 444222, 567432, 768798, 345654, 654321, 564321 ]\n",
    "\n",
    "XTX = X.T.dot(X)\n",
    "\n",
    "\n",
    "XTX_inv = np.linalg.inv(XTX)\n",
    "\n",
    "\n",
    "# # calculation for all the weight\n",
    "w_full = XTX_inv.dot(X.T).dot(y)\n",
    "\n",
    "\n",
    "# # this is for the first weight\n",
    "w0 = w_full[0]\n",
    "w0\n",
    "\n",
    "\n",
    "# # this is for the remaining weights, starting from 1 to the end.\n",
    "# w = w_full[1:]\n",
    "\n",
    "w0,w\n"
   ]
  },
  {
   "cell_type": "code",
   "execution_count": null,
   "id": "a27a5933",
   "metadata": {},
   "outputs": [],
   "source": []
  },
  {
   "cell_type": "code",
   "execution_count": null,
   "id": "add2f39c",
   "metadata": {},
   "outputs": [],
   "source": []
  }
 ],
 "metadata": {
  "kernelspec": {
   "display_name": "Python 3",
   "language": "python",
   "name": "python3"
  },
  "language_info": {
   "codemirror_mode": {
    "name": "ipython",
    "version": 3
   },
   "file_extension": ".py",
   "mimetype": "text/x-python",
   "name": "python",
   "nbconvert_exporter": "python",
   "pygments_lexer": "ipython3",
   "version": "3.12.1"
  }
 },
 "nbformat": 4,
 "nbformat_minor": 5
}
